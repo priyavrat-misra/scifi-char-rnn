{
 "metadata": {
  "language_info": {
   "codemirror_mode": {
    "name": "ipython",
    "version": 3
   },
   "file_extension": ".py",
   "mimetype": "text/x-python",
   "name": "python",
   "nbconvert_exporter": "python",
   "pygments_lexer": "ipython3",
   "version": "3.8.5-final"
  },
  "orig_nbformat": 2,
  "kernelspec": {
   "name": "python3",
   "display_name": "Python 3",
   "language": "python"
  }
 },
 "nbformat": 4,
 "nbformat_minor": 2,
 "cells": [
  {
   "cell_type": "code",
   "execution_count": 1,
   "metadata": {},
   "outputs": [],
   "source": [
    "import torch\n",
    "from network import CharRNN\n",
    "from infer_utils import sample"
   ]
  },
  {
   "cell_type": "code",
   "execution_count": 2,
   "metadata": {},
   "outputs": [
    {
     "output_type": "execute_result",
     "data": {
      "text/plain": [
       "CharRNN(\n",
       "  (lstm): LSTM(75, 512, num_layers=2, batch_first=True, dropout=0.5)\n",
       "  (dropout): Dropout(p=0.5, inplace=False)\n",
       "  (fc): Linear(in_features=512, out_features=75, bias=True)\n",
       ")"
      ]
     },
     "metadata": {},
     "execution_count": 2
    }
   ],
   "source": [
    "# load model from checkpoint\n",
    "checkpoint = torch.load('models/char_rnn.pth')\n",
    "model = CharRNN(\n",
    "    tokens=checkpoint['tokens'],\n",
    "    n_hidden=checkpoint['n_hidden'],\n",
    "    n_layers=checkpoint['n_layers']\n",
    "    )\n",
    "model.load_state_dict(checkpoint['model'])\n",
    "model.eval()"
   ]
  },
  {
   "cell_type": "code",
   "execution_count": 3,
   "metadata": {},
   "outputs": [
    {
     "output_type": "stream",
     "name": "stdout",
     "text": [
      "A long time ago in a galaxy far, far away... the stars who still hasn't been the same thing. The string of all-star power could be a space-surface to transport the proper case the same as it would help. The structure of a planet, the survivors and that of the section of the structure and a stock on the surface, was the field and the secret of the proper point. This was the first time the party on the survivors wouldn't have seen the constitution of the stars, by the time. The colony had been told that there was still a concept of stories, but it was the others of the press. If they wanted to tell them the same and all the story would be able to command a stranger and they would be sensed any thought that they had not stopped. Anyway, they were trained in an end of their sense of service as they could be. And the chance was not such an experience. There was nothing else. He'd still be the fair star of this survey on the surface, a space station. He had no idea what had happened to the ship, but this was not a serious series. The ship was still there. The chest had seemed suddenly anger, as it had been and was thirty feet to the ship. The concept of that was supposed to be an excuse to see the process. A ship's storm all seemed to be the old man, but it was not a succession of successful cases. The stars would have to send the problem into the country they were sure this was the same way, a chance to see the stranger and the same and all their proper complete strength, but they had not concealed them. They had been trained for the captain and he had too low to say a storm or a servant. They had not been able to take the proposal, though it was a part of him. He saw a pressure on his body and a channel, and this was the simple thing that was to be a statement. The second word to the capital was a possible structure, and the concept of his support was not too much as a successful story one of them and himself that the second companion officer had been allowed to be trained to say that the construction would have t\n"
     ]
    }
   ],
   "source": [
    "# generate characters\n",
    "print(sample(model, 2000, top_k=3, prime='A long time ago in a galaxy far, far away...'))"
   ]
  }
 ]
}