{
  "nbformat": 4,
  "nbformat_minor": 0,
  "metadata": {
    "language_info": {
      "codemirror_mode": {
        "name": "ipython",
        "version": 3
      },
      "file_extension": ".py",
      "mimetype": "text/x-python",
      "name": "python",
      "nbconvert_exporter": "python",
      "pygments_lexer": "ipython3",
      "version": "3.8.5-final"
    },
    "orig_nbformat": 2,
    "kernelspec": {
      "name": "python3",
      "display_name": "Python 3.8.5 64-bit",
      "metadata": {
        "interpreter": {
          "hash": "0e0d1c7ef0f381ce9c31735005e25185fd13b9c57d8e85878ff9ff982cb55e39"
        }
      }
    },
    "colab": {
      "name": "train.ipynb",
      "provenance": [],
      "collapsed_sections": []
    },
    "accelerator": "GPU"
  },
  "cells": [
    {
      "cell_type": "code",
      "metadata": {
        "id": "rnBXHnK5dGMg"
      },
      "source": [
        "import torch\n",
        "import torch.nn as nn\n",
        "import torch.optim as optim\n",
        "\n",
        "import numpy as np\n",
        "from tqdm import tqdm\n",
        "from utils import *\n",
        "from network import CharRNN"
      ],
      "execution_count": 1,
      "outputs": []
    },
    {
      "cell_type": "code",
      "metadata": {
        "id": "skpbix5xdGMr"
      },
      "source": [
        "device = 'cuda' if torch.cuda.is_available() else 'cpu'"
      ],
      "execution_count": 2,
      "outputs": []
    },
    {
      "cell_type": "code",
      "metadata": {
        "id": "mbAp-58udGMs"
      },
      "source": [
        "with open('data/internet_archive_scifi_v3.txt') as f:\n",
        "    text = f.read()"
      ],
      "execution_count": 3,
      "outputs": []
    },
    {
      "cell_type": "code",
      "metadata": {
        "id": "P6vwVP2ydGMs",
        "colab": {
          "base_uri": "https://localhost:8080/"
        },
        "outputId": "0c96be5c-4d1c-4e12-e5f8-b678e791e68f"
      },
      "source": [
        "criterion = nn.CrossEntropyLoss()\n",
        "\n",
        "# check if there are any checkpoint available from previous runs, else start from zero\n",
        "try:\n",
        "    checkpoint = torch.load('models/char_rnn_ckpt.pth', map_location=device)\n",
        "    model = CharRNN(\n",
        "        tokens=checkpoint['tokens'],\n",
        "        n_hidden=checkpoint['n_hidden'],\n",
        "        n_layers=checkpoint['n_layers'],\n",
        "        ).to(device)\n",
        "    model.load_state_dict(checkpoint['model'])\n",
        "    optimizer = optim.Adam(model.parameters(), lr=0.001)\n",
        "    scheduler = optim.lr_scheduler.ReduceLROnPlateau(optimizer, factor=1/3, patience=8, verbose=True)\n",
        "    optimizer.load_state_dict(checkpoint['optimizer'])\n",
        "    scheduler.load_state_dict(checkpoint['scheduler'])\n",
        "    start_epoch = checkpoint['epoch'] + 1\n",
        "    val_loss_min = checkpoint['val_loss']\n",
        "    print(f'checkpoint found, training will start from epoch {start_epoch}')\n",
        "    \n",
        "    encoding = np.array([model.char2int[ch] for ch in text[580:]])\n",
        "    \n",
        "except:\n",
        "    chars, encoding = tokenize(text[580:])  # scifi text starts from character no '580'\n",
        "    model = CharRNN(tokens=chars).to(device)\n",
        "    optimizer = optim.Adam(model.parameters(), lr=0.001)\n",
        "    scheduler = optim.lr_scheduler.ReduceLROnPlateau(optimizer, factor=1/3, patience=8, verbose=True)\n",
        "    start_epoch = 0\n",
        "    val_loss_min = np.Inf\n",
        "    print(f'no checkpoint found, training will start from epoch {start_epoch}')\n",
        "\n",
        "print(model)\n",
        "\n",
        "# create training and validation data\n",
        "val_frac = 0.01  # 1% of entire dataset (~1.5M chars)\n",
        "val_idx = int(len(encoding)*(1-val_frac))\n",
        "data, val_data = encoding[:val_idx], encoding[val_idx:]"
      ],
      "execution_count": 4,
      "outputs": [
        {
          "output_type": "stream",
          "text": [
            "no checkpoint found, training will start from epoch 0\n",
            "CharRNN(\n",
            "  (lstm): LSTM(75, 512, num_layers=2, batch_first=True, dropout=0.5)\n",
            "  (dropout): Dropout(p=0.5, inplace=False)\n",
            "  (fc): Linear(in_features=512, out_features=75, bias=True)\n",
            ")\n"
          ],
          "name": "stdout"
        }
      ]
    },
    {
      "cell_type": "code",
      "metadata": {
        "colab": {
          "base_uri": "https://localhost:8080/"
        },
        "id": "5sFHBKxddGMv",
        "outputId": "fae86e2e-6e97-4c59-9ed8-cd48a95879ca"
      },
      "source": [
        "seq_length = 64\n",
        "batch_size = 512\n",
        "num_epochs = 32\n",
        "n_chars = len(model.chars)\n",
        "num_train_batches = len(data)//(batch_size*seq_length)\n",
        "num_val_batches = len(val_data)//(batch_size*seq_length)\n",
        "\n",
        "for epoch in range(start_epoch, num_epochs):\n",
        "    model.train()\n",
        "    train_loss = 0\n",
        "\n",
        "    h = model.init_hidden(batch_size)  # initialize hidden state\n",
        "    loop = tqdm(get_batches(data, batch_size, seq_length), total=num_train_batches)\n",
        "\n",
        "    for x, y in loop:\n",
        "        x = one_hot_encode(x, n_chars)  # one hot encode the data\n",
        "        inputs, targets = torch.from_numpy(x).to(device), torch.from_numpy(y).to(device)\n",
        "        # creates new variables for the hidden state, otherwise\n",
        "        # the optimizer would backprop through the entire training history\n",
        "        h = tuple([each.data for each in h])\n",
        "        model.zero_grad()  # zero out accumulated gradients\n",
        "        outputs, h = model(inputs, h)\n",
        "        loss = criterion(outputs, targets.view(batch_size*seq_length).long())\n",
        "        loss.backward()\n",
        "        # clip gradients, prevents exploding gradient problem in RNNs\n",
        "        nn.utils.clip_grad_norm_(parameters=model.parameters(), max_norm=5)\n",
        "        optimizer.step()\n",
        "\n",
        "        train_loss += loss.item()\n",
        "        loop.set_description(f'Epoch [{epoch+1:2d}/{num_epochs}]')\n",
        "        loop.set_postfix(loss=loss.item())\n",
        "\n",
        "\n",
        "    model.eval()\n",
        "    val_loss = 0\n",
        "    with torch.no_grad():\n",
        "        val_h = model.init_hidden(batch_size)\n",
        "        for x, y in get_batches(val_data, batch_size, seq_length):\n",
        "            x = one_hot_encode(x, n_chars)\n",
        "            inputs, targets = torch.from_numpy(x).to(device), torch.from_numpy(y).to(device)\n",
        "            outputs, val_h = model(inputs, val_h)\n",
        "            loss = criterion(outputs, targets.view(batch_size*seq_length).long())\n",
        "            val_loss += loss.item()\n",
        "\n",
        "\n",
        "    scheduler.step(val_loss)\n",
        "    print(f'\\n\\t\\tavg_train_loss={train_loss/num_train_batches:.4f}, avg_val_loss={val_loss/num_val_batches:.4f}')\n",
        "\n",
        "    # save the model if the validation loss has decreased\n",
        "    if val_loss <= val_loss_min:\n",
        "        print(f'\\t\\tval_loss decreased ({val_loss_min:.4f} --> {val_loss:.4f}) saving model...\\n')\n",
        "        checkpoint = {\n",
        "            'epoch': epoch,\n",
        "            'n_hidden': model.n_hidden,\n",
        "            'n_layers': model.n_layers,\n",
        "            'tokens': model.chars,\n",
        "            'model': model.state_dict(),\n",
        "            'optimizer': optimizer.state_dict(),\n",
        "            'scheduler': scheduler.state_dict(),\n",
        "            'val_loss': val_loss\n",
        "            }\n",
        "        torch.save(checkpoint, 'models/char_rnn_ckpt.pth')\n",
        "        val_loss_min = val_loss\n"
      ],
      "execution_count": 5,
      "outputs": [
        {
          "output_type": "stream",
          "text": [
            "Epoch [ 1/32]: 100%|██████████| 4511/4511 [16:54<00:00,  4.45it/s, loss=1.45]\n"
          ],
          "name": "stderr"
        },
        {
          "output_type": "stream",
          "text": [
            "\n",
            "\t\tavg_train_loss=1.6226, avg_val_loss=1.2837\n",
            "\t\tval_loss decreased (inf --> 57.7671) saving model...\n",
            "\n"
          ],
          "name": "stdout"
        },
        {
          "output_type": "stream",
          "text": [
            "Epoch [ 2/32]: 100%|██████████| 4511/4511 [16:56<00:00,  4.44it/s, loss=1.39]\n"
          ],
          "name": "stderr"
        },
        {
          "output_type": "stream",
          "text": [
            "\n",
            "\t\tavg_train_loss=1.3518, avg_val_loss=1.2196\n",
            "\t\tval_loss decreased (57.7671 --> 54.8805) saving model...\n",
            "\n"
          ],
          "name": "stdout"
        },
        {
          "output_type": "stream",
          "text": [
            "Epoch [ 3/32]: 100%|██████████| 4511/4511 [16:57<00:00,  4.43it/s, loss=1.37]\n"
          ],
          "name": "stderr"
        },
        {
          "output_type": "stream",
          "text": [
            "\n",
            "\t\tavg_train_loss=1.3085, avg_val_loss=1.1924\n",
            "\t\tval_loss decreased (54.8805 --> 53.6597) saving model...\n",
            "\n"
          ],
          "name": "stdout"
        },
        {
          "output_type": "stream",
          "text": [
            "Epoch [ 4/32]: 100%|██████████| 4511/4511 [16:58<00:00,  4.43it/s, loss=1.35]\n"
          ],
          "name": "stderr"
        },
        {
          "output_type": "stream",
          "text": [
            "\n",
            "\t\tavg_train_loss=1.2863, avg_val_loss=1.1763\n",
            "\t\tval_loss decreased (53.6597 --> 52.9334) saving model...\n",
            "\n"
          ],
          "name": "stdout"
        },
        {
          "output_type": "stream",
          "text": [
            "Epoch [ 5/32]: 100%|██████████| 4511/4511 [16:58<00:00,  4.43it/s, loss=1.34]\n"
          ],
          "name": "stderr"
        },
        {
          "output_type": "stream",
          "text": [
            "\n",
            "\t\tavg_train_loss=1.2719, avg_val_loss=1.1649\n",
            "\t\tval_loss decreased (52.9334 --> 52.4198) saving model...\n",
            "\n"
          ],
          "name": "stdout"
        },
        {
          "output_type": "stream",
          "text": [
            "Epoch [ 6/32]: 100%|██████████| 4511/4511 [16:59<00:00,  4.42it/s, loss=1.33]\n"
          ],
          "name": "stderr"
        },
        {
          "output_type": "stream",
          "text": [
            "\n",
            "\t\tavg_train_loss=1.2615, avg_val_loss=1.1566\n",
            "\t\tval_loss decreased (52.4198 --> 52.0464) saving model...\n",
            "\n"
          ],
          "name": "stdout"
        },
        {
          "output_type": "stream",
          "text": [
            "Epoch [ 7/32]: 100%|██████████| 4511/4511 [16:57<00:00,  4.43it/s, loss=1.33]\n"
          ],
          "name": "stderr"
        },
        {
          "output_type": "stream",
          "text": [
            "\n",
            "\t\tavg_train_loss=1.2533, avg_val_loss=1.1504\n",
            "\t\tval_loss decreased (52.0464 --> 51.7688) saving model...\n",
            "\n"
          ],
          "name": "stdout"
        },
        {
          "output_type": "stream",
          "text": [
            "Epoch [ 8/32]: 100%|██████████| 4511/4511 [16:53<00:00,  4.45it/s, loss=1.32]\n"
          ],
          "name": "stderr"
        },
        {
          "output_type": "stream",
          "text": [
            "\n",
            "\t\tavg_train_loss=1.2468, avg_val_loss=1.1446\n",
            "\t\tval_loss decreased (51.7688 --> 51.5086) saving model...\n",
            "\n"
          ],
          "name": "stdout"
        },
        {
          "output_type": "stream",
          "text": [
            "Epoch [ 9/32]: 100%|██████████| 4511/4511 [16:57<00:00,  4.44it/s, loss=1.32]\n"
          ],
          "name": "stderr"
        },
        {
          "output_type": "stream",
          "text": [
            "\n",
            "\t\tavg_train_loss=1.2413, avg_val_loss=1.1399\n",
            "\t\tval_loss decreased (51.5086 --> 51.2976) saving model...\n",
            "\n"
          ],
          "name": "stdout"
        },
        {
          "output_type": "stream",
          "text": [
            "Epoch [10/32]: 100%|██████████| 4511/4511 [16:57<00:00,  4.43it/s, loss=1.31]\n"
          ],
          "name": "stderr"
        },
        {
          "output_type": "stream",
          "text": [
            "\n",
            "\t\tavg_train_loss=1.2366, avg_val_loss=1.1359\n",
            "\t\tval_loss decreased (51.2976 --> 51.1175) saving model...\n",
            "\n"
          ],
          "name": "stdout"
        },
        {
          "output_type": "stream",
          "text": [
            "Epoch [11/32]: 100%|██████████| 4511/4511 [16:59<00:00,  4.43it/s, loss=1.31]\n"
          ],
          "name": "stderr"
        },
        {
          "output_type": "stream",
          "text": [
            "\n",
            "\t\tavg_train_loss=1.2327, avg_val_loss=1.1326\n",
            "\t\tval_loss decreased (51.1175 --> 50.9681) saving model...\n",
            "\n"
          ],
          "name": "stdout"
        },
        {
          "output_type": "stream",
          "text": [
            "Epoch [12/32]: 100%|██████████| 4511/4511 [16:58<00:00,  4.43it/s, loss=1.31]\n"
          ],
          "name": "stderr"
        },
        {
          "output_type": "stream",
          "text": [
            "\n",
            "\t\tavg_train_loss=1.2292, avg_val_loss=1.1298\n",
            "\t\tval_loss decreased (50.9681 --> 50.8414) saving model...\n",
            "\n"
          ],
          "name": "stdout"
        },
        {
          "output_type": "stream",
          "text": [
            "Epoch [13/32]: 100%|██████████| 4511/4511 [17:10<00:00,  4.38it/s, loss=1.31]\n"
          ],
          "name": "stderr"
        },
        {
          "output_type": "stream",
          "text": [
            "\n",
            "\t\tavg_train_loss=1.2260, avg_val_loss=1.1270\n",
            "\t\tval_loss decreased (50.8414 --> 50.7153) saving model...\n",
            "\n"
          ],
          "name": "stdout"
        },
        {
          "output_type": "stream",
          "text": [
            "Epoch [14/32]: 100%|██████████| 4511/4511 [17:12<00:00,  4.37it/s, loss=1.3]\n"
          ],
          "name": "stderr"
        },
        {
          "output_type": "stream",
          "text": [
            "\n",
            "\t\tavg_train_loss=1.2233, avg_val_loss=1.1248\n",
            "\t\tval_loss decreased (50.7153 --> 50.6138) saving model...\n",
            "\n"
          ],
          "name": "stdout"
        },
        {
          "output_type": "stream",
          "text": [
            "Epoch [15/32]: 100%|██████████| 4511/4511 [17:10<00:00,  4.38it/s, loss=1.3]\n"
          ],
          "name": "stderr"
        },
        {
          "output_type": "stream",
          "text": [
            "\n",
            "\t\tavg_train_loss=1.2208, avg_val_loss=1.1224\n",
            "\t\tval_loss decreased (50.6138 --> 50.5058) saving model...\n",
            "\n"
          ],
          "name": "stdout"
        },
        {
          "output_type": "stream",
          "text": [
            "Epoch [16/32]: 100%|██████████| 4511/4511 [17:15<00:00,  4.36it/s, loss=1.3]\n"
          ],
          "name": "stderr"
        },
        {
          "output_type": "stream",
          "text": [
            "\n",
            "\t\tavg_train_loss=1.2186, avg_val_loss=1.1208\n",
            "\t\tval_loss decreased (50.5058 --> 50.4351) saving model...\n",
            "\n"
          ],
          "name": "stdout"
        },
        {
          "output_type": "stream",
          "text": [
            "Epoch [17/32]: 100%|██████████| 4511/4511 [17:19<00:00,  4.34it/s, loss=1.3]\n"
          ],
          "name": "stderr"
        },
        {
          "output_type": "stream",
          "text": [
            "\n",
            "\t\tavg_train_loss=1.2164, avg_val_loss=1.1185\n",
            "\t\tval_loss decreased (50.4351 --> 50.3334) saving model...\n",
            "\n"
          ],
          "name": "stdout"
        },
        {
          "output_type": "stream",
          "text": [
            "Epoch [18/32]: 100%|██████████| 4511/4511 [18:06<00:00,  4.15it/s, loss=1.3]\n"
          ],
          "name": "stderr"
        },
        {
          "output_type": "stream",
          "text": [
            "\n",
            "\t\tavg_train_loss=1.2145, avg_val_loss=1.1169\n",
            "\t\tval_loss decreased (50.3334 --> 50.2624) saving model...\n",
            "\n"
          ],
          "name": "stdout"
        },
        {
          "output_type": "stream",
          "text": [
            "Epoch [19/32]: 100%|██████████| 4511/4511 [18:10<00:00,  4.14it/s, loss=1.29]\n"
          ],
          "name": "stderr"
        },
        {
          "output_type": "stream",
          "text": [
            "\n",
            "\t\tavg_train_loss=1.2128, avg_val_loss=1.1152\n",
            "\t\tval_loss decreased (50.2624 --> 50.1818) saving model...\n",
            "\n"
          ],
          "name": "stdout"
        },
        {
          "output_type": "stream",
          "text": [
            "Epoch [20/32]: 100%|██████████| 4511/4511 [18:16<00:00,  4.12it/s, loss=1.3]\n"
          ],
          "name": "stderr"
        },
        {
          "output_type": "stream",
          "text": [
            "\n",
            "\t\tavg_train_loss=1.2112, avg_val_loss=1.1136\n",
            "\t\tval_loss decreased (50.1818 --> 50.1104) saving model...\n",
            "\n"
          ],
          "name": "stdout"
        },
        {
          "output_type": "stream",
          "text": [
            "Epoch [21/32]: 100%|██████████| 4511/4511 [18:13<00:00,  4.12it/s, loss=1.3]\n"
          ],
          "name": "stderr"
        },
        {
          "output_type": "stream",
          "text": [
            "\n",
            "\t\tavg_train_loss=1.2097, avg_val_loss=1.1129\n",
            "\t\tval_loss decreased (50.1104 --> 50.0825) saving model...\n",
            "\n"
          ],
          "name": "stdout"
        },
        {
          "output_type": "stream",
          "text": [
            "Epoch [22/32]: 100%|██████████| 4511/4511 [18:09<00:00,  4.14it/s, loss=1.3]\n"
          ],
          "name": "stderr"
        },
        {
          "output_type": "stream",
          "text": [
            "\n",
            "\t\tavg_train_loss=1.2083, avg_val_loss=1.1112\n",
            "\t\tval_loss decreased (50.0825 --> 50.0058) saving model...\n",
            "\n"
          ],
          "name": "stdout"
        },
        {
          "output_type": "stream",
          "text": [
            "Epoch [23/32]: 100%|██████████| 4511/4511 [18:16<00:00,  4.12it/s, loss=1.29]\n"
          ],
          "name": "stderr"
        },
        {
          "output_type": "stream",
          "text": [
            "\n",
            "\t\tavg_train_loss=1.2069, avg_val_loss=1.1104\n",
            "\t\tval_loss decreased (50.0058 --> 49.9665) saving model...\n",
            "\n"
          ],
          "name": "stdout"
        },
        {
          "output_type": "stream",
          "text": [
            "Epoch [24/32]: 100%|██████████| 4511/4511 [18:14<00:00,  4.12it/s, loss=1.3]\n"
          ],
          "name": "stderr"
        },
        {
          "output_type": "stream",
          "text": [
            "\n",
            "\t\tavg_train_loss=1.2057, avg_val_loss=1.1095\n",
            "\t\tval_loss decreased (49.9665 --> 49.9267) saving model...\n",
            "\n"
          ],
          "name": "stdout"
        },
        {
          "output_type": "stream",
          "text": [
            "Epoch [25/32]: 100%|██████████| 4511/4511 [18:09<00:00,  4.14it/s, loss=1.29]\n"
          ],
          "name": "stderr"
        },
        {
          "output_type": "stream",
          "text": [
            "\n",
            "\t\tavg_train_loss=1.2045, avg_val_loss=1.1085\n",
            "\t\tval_loss decreased (49.9267 --> 49.8840) saving model...\n",
            "\n"
          ],
          "name": "stdout"
        },
        {
          "output_type": "stream",
          "text": [
            "Epoch [26/32]: 100%|██████████| 4511/4511 [18:09<00:00,  4.14it/s, loss=1.29]\n"
          ],
          "name": "stderr"
        },
        {
          "output_type": "stream",
          "text": [
            "\n",
            "\t\tavg_train_loss=1.2034, avg_val_loss=1.1071\n",
            "\t\tval_loss decreased (49.8840 --> 49.8187) saving model...\n",
            "\n"
          ],
          "name": "stdout"
        },
        {
          "output_type": "stream",
          "text": [
            "Epoch [27/32]: 100%|██████████| 4511/4511 [18:16<00:00,  4.11it/s, loss=1.29]\n"
          ],
          "name": "stderr"
        },
        {
          "output_type": "stream",
          "text": [
            "\n",
            "\t\tavg_train_loss=1.2024, avg_val_loss=1.1059\n",
            "\t\tval_loss decreased (49.8187 --> 49.7641) saving model...\n",
            "\n"
          ],
          "name": "stdout"
        },
        {
          "output_type": "stream",
          "text": [
            "Epoch [28/32]: 100%|██████████| 4511/4511 [18:15<00:00,  4.12it/s, loss=1.28]\n"
          ],
          "name": "stderr"
        },
        {
          "output_type": "stream",
          "text": [
            "\n",
            "\t\tavg_train_loss=1.2013, avg_val_loss=1.1056\n",
            "\t\tval_loss decreased (49.7641 --> 49.7538) saving model...\n",
            "\n"
          ],
          "name": "stdout"
        },
        {
          "output_type": "stream",
          "text": [
            "Epoch [29/32]: 100%|██████████| 4511/4511 [18:09<00:00,  4.14it/s, loss=1.29]\n"
          ],
          "name": "stderr"
        },
        {
          "output_type": "stream",
          "text": [
            "\n",
            "\t\tavg_train_loss=1.2003, avg_val_loss=1.1051\n",
            "\t\tval_loss decreased (49.7538 --> 49.7274) saving model...\n",
            "\n"
          ],
          "name": "stdout"
        },
        {
          "output_type": "stream",
          "text": [
            "Epoch [30/32]: 100%|██████████| 4511/4511 [18:15<00:00,  4.12it/s, loss=1.29]\n"
          ],
          "name": "stderr"
        },
        {
          "output_type": "stream",
          "text": [
            "\n",
            "\t\tavg_train_loss=1.1995, avg_val_loss=1.1034\n",
            "\t\tval_loss decreased (49.7274 --> 49.6527) saving model...\n",
            "\n"
          ],
          "name": "stdout"
        },
        {
          "output_type": "stream",
          "text": [
            "Epoch [31/32]: 100%|██████████| 4511/4511 [18:14<00:00,  4.12it/s, loss=1.29]\n"
          ],
          "name": "stderr"
        },
        {
          "output_type": "stream",
          "text": [
            "\n",
            "\t\tavg_train_loss=1.1986, avg_val_loss=1.1025\n",
            "\t\tval_loss decreased (49.6527 --> 49.6115) saving model...\n",
            "\n"
          ],
          "name": "stdout"
        },
        {
          "output_type": "stream",
          "text": [
            "Epoch [32/32]: 100%|██████████| 4511/4511 [18:09<00:00,  4.14it/s, loss=1.29]\n"
          ],
          "name": "stderr"
        },
        {
          "output_type": "stream",
          "text": [
            "\n",
            "\t\tavg_train_loss=1.1978, avg_val_loss=1.1019\n",
            "\t\tval_loss decreased (49.6115 --> 49.5843) saving model...\n",
            "\n"
          ],
          "name": "stdout"
        }
      ]
    },
    {
      "cell_type": "code",
      "execution_count": null,
      "metadata": {},
      "outputs": [],
      "source": [
        "# save only required stuff which will be needed during inference\n",
        "checkpoint = {\n",
        "            'n_hidden': model.n_hidden,\n",
        "            'n_layers': model.n_layers,\n",
        "            'tokens': model.chars,\n",
        "            'model': model.state_dict()\n",
        "            }\n",
        "torch.save(checkpoint, 'models/char_rnn.pth')"
      ]
    }
  ]
}